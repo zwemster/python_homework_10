{
 "cells": [
  {
   "cell_type": "markdown",
   "id": "4fbf7fe3",
   "metadata": {},
   "source": [
    "# Jupyter Notebook и несколько слов об аналитике\n",
    "\n",
    "## f(x) =0.6x^3+5.5x^2+10x -5\n",
    "\n",
    "* Определить корни\n",
    "* Найти интервалы, на которых функция возрастает\n",
    "* Найти интервалы, на которых функция убывает\n",
    "* Построить график\n",
    "* Вычислить вершину\n",
    "* Определить промежутки, на котором f > 0\n",
    "* Определить промежутки, на котором f < 0"
   ]
  },
  {
   "cell_type": "markdown",
   "id": "4d7620e5",
   "metadata": {},
   "source": [
    "#### Задание переменных функции и определение переменной f(x) с дальнейшим выводом."
   ]
  },
  {
   "cell_type": "code",
   "execution_count": 141,
   "id": "4066e92c",
   "metadata": {},
   "outputs": [],
   "source": [
    "from sympy import*\n",
    "\n",
    "a, b, c, d = 0.6, 5.5, 10, -5\n",
    "\n",
    "x = Symbol('x')\n",
    "f_x = a * (x**3) + b * (x**2) + c * x + d"
   ]
  },
  {
   "cell_type": "code",
   "execution_count": 142,
   "id": "2cc45d8a",
   "metadata": {},
   "outputs": [
    {
     "data": {
      "text/latex": [
       "$\\displaystyle 0.6 x^{3} + 5.5 x^{2} + 10 x - 5$"
      ],
      "text/plain": [
       "0.6*x**3 + 5.5*x**2 + 10*x - 5"
      ]
     },
     "execution_count": 142,
     "metadata": {},
     "output_type": "execute_result"
    }
   ],
   "source": [
    "f_x"
   ]
  },
  {
   "cell_type": "markdown",
   "id": "3165d777",
   "metadata": {},
   "source": [
    "#### Построение графика кубической функции.\n",
    "\n",
    "Графиком кубической функции является кубическая парабола.\n",
    "Графическое представление позволит определить визуально количество корней функции."
   ]
  },
  {
   "cell_type": "code",
   "execution_count": 143,
   "id": "d0e9f94e",
   "metadata": {},
   "outputs": [
    {
     "data": {
      "image/png": "[encoded data removed]",
      "text/plain": [
       "<Figure size 640x480 with 1 Axes>"
      ]
     },
     "metadata": {},
     "output_type": "display_data"
    }
   ],
   "source": [
    "from sympy.plotting import plot\n",
    "\n",
    "mut_plot = plot(f_x, (x, -8, 3),line_color= 'red', title='Кубическая парабола', legend= True, xlabel = 'X', ylabel = 'Y')"
   ]
  },
  {
   "cell_type": "markdown",
   "id": "2fabf7b3",
   "metadata": {},
   "source": [
    "#### Определение корней уравнения.\n",
    "Исходя из графика, данная кубическая функция имеет три корня.\n",
    "\n",
    "Первый корень уравнения"
   ]
  },
  {
   "cell_type": "code",
   "execution_count": 144,
   "id": "cf9ac9b1",
   "metadata": {},
   "outputs": [
    {
     "data": {
      "text/latex": [
       "$\\displaystyle -6.32$"
      ],
      "text/plain": [
       "-6.32"
      ]
     },
     "execution_count": 144,
     "metadata": {},
     "output_type": "execute_result"
    }
   ],
   "source": [
    "round(solve(f_x, x)[0].n(), 2)"
   ]
  },
  {
   "cell_type": "markdown",
   "id": "b9393daa",
   "metadata": {},
   "source": [
    "Второй корень уравнения"
   ]
  },
  {
   "cell_type": "code",
   "execution_count": 145,
   "id": "401d107d",
   "metadata": {},
   "outputs": [
    {
     "data": {
      "text/latex": [
       "$\\displaystyle -3.25$"
      ],
      "text/plain": [
       "-3.25"
      ]
     },
     "execution_count": 145,
     "metadata": {},
     "output_type": "execute_result"
    }
   ],
   "source": [
    "round(solve(f_x, x)[1].n(), 2)"
   ]
  },
  {
   "cell_type": "markdown",
   "id": "9af8ead0",
   "metadata": {},
   "source": [
    "Третий корень уравнения"
   ]
  },
  {
   "cell_type": "code",
   "execution_count": 146,
   "id": "db02b6bd",
   "metadata": {},
   "outputs": [
    {
     "data": {
      "text/latex": [
       "$\\displaystyle 0.41$"
      ],
      "text/plain": [
       "0.41"
      ]
     },
     "execution_count": 146,
     "metadata": {},
     "output_type": "execute_result"
    }
   ],
   "source": [
    "round(solve(f_x, x)[2].n(), 2)"
   ]
  },
  {
   "cell_type": "markdown",
   "id": "5d8fd3b4",
   "metadata": {},
   "source": [
    "#### Нахождение вершин кубической параболы.\n",
    "Вершинами кубической параболы являются точки локальных максимумов и минимумов графика.\n",
    "Для нахождения вершин кубической параболы необходимо найти производную кубической функции, приравнять её к нулю и затем вычислить *x* и *y*. \n",
    "\n",
    "Производим вычисление производной функции и выводим её."
   ]
  },
  {
   "cell_type": "code",
   "execution_count": 147,
   "id": "c1dce588",
   "metadata": {},
   "outputs": [
    {
     "data": {
      "text/latex": [
       "$\\displaystyle 1.8 x^{2} + 11.0 x + 10$"
      ],
      "text/plain": [
       "1.8*x**2 + 11.0*x + 10"
      ]
     },
     "execution_count": 147,
     "metadata": {},
     "output_type": "execute_result"
    }
   ],
   "source": [
    "der_function = diff(f_x)\n",
    "der_function"
   ]
  },
  {
   "cell_type": "markdown",
   "id": "6191bbf1",
   "metadata": {},
   "source": [
    "Исходя из графика, локальных максимумов и минимумов два. Вычисляем координаты обеих точек:"
   ]
  },
  {
   "cell_type": "code",
   "execution_count": 148,
   "id": "6a12e11f",
   "metadata": {},
   "outputs": [],
   "source": [
    "x_mean_1 = solve(der_function)[0].n(3)\n",
    "x_mean_2 = solve(der_function)[1].n(3)"
   ]
  },
  {
   "cell_type": "markdown",
   "id": "80078fc7",
   "metadata": {},
   "source": [
    "Координаты максимума функции:"
   ]
  },
  {
   "cell_type": "code",
   "execution_count": 149,
   "id": "5e5416b3",
   "metadata": {},
   "outputs": [
    {
     "data": {
      "text/plain": [
       "[-5.00, 7.50]"
      ]
     },
     "execution_count": 149,
     "metadata": {},
     "output_type": "execute_result"
    }
   ],
   "source": [
    "first_coordinate = [x_mean_1, round(f_x.subs(x, x_mean_1), 2)]\n",
    "first_coordinate"
   ]
  },
  {
   "cell_type": "markdown",
   "id": "c5576b53",
   "metadata": {},
   "source": [
    "Координаты минимума функции:"
   ]
  },
  {
   "cell_type": "code",
   "execution_count": 150,
   "id": "acaaf41e",
   "metadata": {},
   "outputs": [
    {
     "data": {
      "text/plain": [
       "[-1.11, -10.14]"
      ]
     },
     "execution_count": 150,
     "metadata": {},
     "output_type": "execute_result"
    }
   ],
   "source": [
    "second_coordinate = [x_mean_2, round(f_x.subs(x, x_mean_2), 2)]\n",
    "second_coordinate"
   ]
  },
  {
   "cell_type": "markdown",
   "id": "679629e0",
   "metadata": {},
   "source": [
    "#### Определение участков возрастания и убывания функции.\n",
    "Для определения участков возрастания и убывания функции необходимо определить участки, на которых производная функции больше 0 и меньше 0 соответственно.\n",
    "\n",
    "Таким образом, функция возрастает на участке:"
   ]
  },
  {
   "cell_type": "code",
   "execution_count": 151,
   "id": "718b5449",
   "metadata": {},
   "outputs": [
    {
     "data": {
      "text/latex": [
       "$\\displaystyle \\left(-1.11111111111111 < x \\wedge x < \\infty\\right) \\vee \\left(-\\infty < x \\wedge x < -5.0\\right)$"
      ],
      "text/plain": [
       "((-1.11111111111111 < x) & (x < oo)) | ((-oo < x) & (x < -5.0))"
      ]
     },
     "execution_count": 151,
     "metadata": {},
     "output_type": "execute_result"
    }
   ],
   "source": [
    "solve(der_function > 0, x)"
   ]
  },
  {
   "cell_type": "markdown",
   "id": "bbfb988c",
   "metadata": {},
   "source": [
    "Тем временем участок, на котором функция убывает, следующий:"
   ]
  },
  {
   "cell_type": "code",
   "execution_count": 152,
   "id": "3d477abb",
   "metadata": {},
   "outputs": [
    {
     "data": {
      "text/latex": [
       "$\\displaystyle -5.0 < x \\wedge x < -1.11111111111111$"
      ],
      "text/plain": [
       "(-5.0 < x) & (x < -1.11111111111111)"
      ]
     },
     "execution_count": 152,
     "metadata": {},
     "output_type": "execute_result"
    }
   ],
   "source": [
    "solve(der_function < 0, x)"
   ]
  },
  {
   "cell_type": "markdown",
   "id": "660a4536",
   "metadata": {},
   "source": [
    "Для наглядности, построим график производной функции и совместим его с уже имеющимся графиком функции:"
   ]
  },
  {
   "cell_type": "code",
   "execution_count": 154,
   "id": "975cd7bb",
   "metadata": {},
   "outputs": [
    {
     "data": {
      "image/png": "[encoded data removed]",
      "text/plain": [
       "<Figure size 640x480 with 1 Axes>"
      ]
     },
     "metadata": {},
     "output_type": "display_data"
    }
   ],
   "source": [
    "mut_plot = plot(f_x, der_function, (x, -8, 3), title='Кубическая парабола', legend= True, xlabel = 'X', ylabel = 'Y', show = False)\n",
    "\n",
    "mut_plot[0].line_color= 'red'\n",
    "mut_plot[1].line_color= 'green'\n",
    "\n",
    "mut_plot.show()"
   ]
  },
  {
   "cell_type": "markdown",
   "id": "d89acf39",
   "metadata": {},
   "source": [
    "#### Определение промежутков, на которых функция является положительной и отрицательной\n",
    "\n",
    "Функция является положительной на участке:"
   ]
  },
  {
   "cell_type": "code",
   "execution_count": 155,
   "id": "bd7fa31c",
   "metadata": {},
   "outputs": [
    {
     "data": {
      "text/latex": [
       "$\\displaystyle \\left(-6.32174537314726 < x \\wedge x < -3.25046383307744\\right) \\vee \\left(0.405542539558034 < x \\wedge x < \\infty\\right)$"
      ],
      "text/plain": [
       "((-6.32174537314726 < x) & (x < -3.25046383307744)) | ((0.405542539558034 < x) & (x < oo))"
      ]
     },
     "execution_count": 155,
     "metadata": {},
     "output_type": "execute_result"
    }
   ],
   "source": [
    "solve(f_x > 0)"
   ]
  },
  {
   "cell_type": "markdown",
   "id": "4a6f9785",
   "metadata": {},
   "source": [
    "Функция является отрицательной на участке:"
   ]
  },
  {
   "cell_type": "code",
   "execution_count": 156,
   "id": "eebf3020",
   "metadata": {},
   "outputs": [
    {
     "data": {
      "text/latex": [
       "$\\displaystyle \\left(-3.25046383307744 < x \\wedge x < 0.405542539558034\\right) \\vee \\left(-\\infty < x \\wedge x < -6.32174537314726\\right)$"
      ],
      "text/plain": [
       "((-3.25046383307744 < x) & (x < 0.405542539558034)) | ((-oo < x) & (x < -6.32174537314726))"
      ]
     },
     "execution_count": 156,
     "metadata": {},
     "output_type": "execute_result"
    }
   ],
   "source": [
    "solve(f_x < 0)"
   ]
  }
 ],
 "metadata": {
  "kernelspec": {
   "display_name": "Python 3 (ipykernel)",
   "language": "python",
   "name": "python3"
  },
  "language_info": {
   "codemirror_mode": {
    "name": "ipython",
    "version": 3
   },
   "file_extension": ".py",
   "mimetype": "text/x-python",
   "name": "python",
   "nbconvert_exporter": "python",
   "pygments_lexer": "ipython3",
   "version": "3.9.13"
  }
 },
 "nbformat": 4,
 "nbformat_minor": 5
}
